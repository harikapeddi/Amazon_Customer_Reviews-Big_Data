{
  "nbformat": 4,
  "nbformat_minor": 0,
  "metadata": {
    "colab": {
      "name": "BigData_Amazon_Reviews.ipynb",
      "provenance": [],
      "collapsed_sections": []
    },
    "kernelspec": {
      "display_name": "Python 3",
      "name": "python3"
    },
    "language_info": {
      "name": "python"
    }
  },
  "cells": [
    {
      "cell_type": "code",
      "metadata": {
        "colab": {
          "base_uri": "https://localhost:8080/"
        },
        "id": "NRDOfu9Z30qC",
        "outputId": "9214cc60-e71e-4672-e38b-3138a6849eea"
      },
      "source": [
        "import os\n",
        "# Find the latest version of spark 3.0  from http://www.apache.org/dist/spark/ and enter as the spark version\n",
        "# For example:\n",
        "# spark_version = 'spark-3.0.3'\n",
        "spark_version = 'spark-3.1.2'\n",
        "os.environ['SPARK_VERSION']=spark_version\n",
        "\n",
        "# Install Spark and Java\n",
        "!apt-get update\n",
        "!apt-get install openjdk-8-jdk-headless -qq > /dev/null\n",
        "!wget -q http://www.apache.org/dist/spark/$SPARK_VERSION/$SPARK_VERSION-bin-hadoop2.7.tgz\n",
        "!tar xf $SPARK_VERSION-bin-hadoop2.7.tgz\n",
        "!pip install -q findspark\n",
        "\n",
        "# Set Environment Variables\n",
        "os.environ[\"JAVA_HOME\"] = \"/usr/lib/jvm/java-8-openjdk-amd64\"\n",
        "os.environ[\"SPARK_HOME\"] = f\"/content/{spark_version}-bin-hadoop2.7\"\n",
        "\n",
        "# Start a SparkSession\n",
        "import findspark\n",
        "findspark.init()"
      ],
      "execution_count": 1,
      "outputs": [
        {
          "output_type": "stream",
          "name": "stdout",
          "text": [
            "\r0% [Working]\r            \rHit:1 http://security.ubuntu.com/ubuntu bionic-security InRelease\n",
            "\r0% [Connecting to archive.ubuntu.com (91.189.88.142)] [Connected to cloud.r-pro\r0% [1 InRelease gpgv 88.7 kB] [Connecting to archive.ubuntu.com (91.189.88.142)\r                                                                               \rHit:2 https://cloud.r-project.org/bin/linux/ubuntu bionic-cran40/ InRelease\n",
            "\r0% [1 InRelease gpgv 88.7 kB] [Waiting for headers] [Waiting for headers] [Wait\r                                                                               \rIgn:3 https://developer.download.nvidia.com/compute/cuda/repos/ubuntu1804/x86_64  InRelease\n",
            "\r0% [1 InRelease gpgv 88.7 kB] [Waiting for headers] [Waiting for headers] [Wait\r                                                                               \rHit:4 http://ppa.launchpad.net/c2d4u.team/c2d4u4.0+/ubuntu bionic InRelease\n",
            "\r0% [1 InRelease gpgv 88.7 kB] [Waiting for headers] [Connecting to ppa.launchpa\r                                                                               \rHit:5 http://archive.ubuntu.com/ubuntu bionic InRelease\n",
            "\r0% [1 InRelease gpgv 88.7 kB] [Waiting for headers] [Connecting to ppa.launchpa\r                                                                               \rIgn:6 https://developer.download.nvidia.com/compute/machine-learning/repos/ubuntu1804/x86_64  InRelease\n",
            "\r0% [1 InRelease gpgv 88.7 kB] [Waiting for headers] [Connecting to ppa.launchpa\r                                                                               \rHit:7 https://developer.download.nvidia.com/compute/cuda/repos/ubuntu1804/x86_64  Release\n",
            "Hit:8 https://developer.download.nvidia.com/compute/machine-learning/repos/ubuntu1804/x86_64  Release\n",
            "Get:9 http://archive.ubuntu.com/ubuntu bionic-updates InRelease [88.7 kB]\n",
            "Hit:10 http://ppa.launchpad.net/cran/libgit2/ubuntu bionic InRelease\n",
            "Hit:11 http://ppa.launchpad.net/deadsnakes/ppa/ubuntu bionic InRelease\n",
            "Get:12 http://archive.ubuntu.com/ubuntu bionic-backports InRelease [74.6 kB]\n",
            "Hit:13 http://ppa.launchpad.net/graphics-drivers/ppa/ubuntu bionic InRelease\n",
            "Fetched 163 kB in 2s (72.6 kB/s)\n",
            "Reading package lists... Done\n"
          ]
        }
      ]
    },
    {
      "cell_type": "code",
      "metadata": {
        "colab": {
          "base_uri": "https://localhost:8080/"
        },
        "id": "T_DYUmVsqWEl",
        "outputId": "c147e754-98b9-4b91-aa38-e385e6393cbe"
      },
      "source": [
        "!wget https://jdbc.postgresql.org/download/postgresql-42.2.9.jar"
      ],
      "execution_count": 2,
      "outputs": [
        {
          "output_type": "stream",
          "name": "stdout",
          "text": [
            "--2021-09-27 23:28:53--  https://jdbc.postgresql.org/download/postgresql-42.2.9.jar\n",
            "Resolving jdbc.postgresql.org (jdbc.postgresql.org)... 72.32.157.228, 2001:4800:3e1:1::228\n",
            "Connecting to jdbc.postgresql.org (jdbc.postgresql.org)|72.32.157.228|:443... connected.\n",
            "HTTP request sent, awaiting response... 200 OK\n",
            "Length: 914037 (893K) [application/java-archive]\n",
            "Saving to: ‘postgresql-42.2.9.jar.1’\n",
            "\n",
            "postgresql-42.2.9.j 100%[===================>] 892.61K  5.02MB/s    in 0.2s    \n",
            "\n",
            "2021-09-27 23:28:53 (5.02 MB/s) - ‘postgresql-42.2.9.jar.1’ saved [914037/914037]\n",
            "\n"
          ]
        }
      ]
    },
    {
      "cell_type": "code",
      "metadata": {
        "id": "MDlP9Eq3IsQJ"
      },
      "source": [
        "from pyspark.sql import SparkSession\n",
        "spark = SparkSession.builder.appName(\"CloudETL\").config(\"spark.driver.extraClassPath\",\"/content/postgresql-42.2.9.jar\").getOrCreate()"
      ],
      "execution_count": 3,
      "outputs": []
    },
    {
      "cell_type": "code",
      "metadata": {
        "colab": {
          "base_uri": "https://localhost:8080/"
        },
        "id": "Sls4d0nHLT40",
        "outputId": "93319d7a-d4b6-4c72-a573-92871ceaa014"
      },
      "source": [
        "from pyspark import SparkFiles\n",
        "# Load in user_data.csv from S3 into a DataFrame\n",
        "url = \"https://s3.amazonaws.com/amazon-reviews-pds/tsv/amazon_reviews_us_Electronics_v1_00.tsv.gz\"\n",
        "spark.sparkContext.addFile(url)\n",
        "\n",
        "df = spark.read.csv(SparkFiles.get(\"amazon_reviews_us_Electronics_v1_00.tsv.gz\"),sep=\"\\t\", header=True, inferSchema=True, timestampFormat=\"mm/dd/yy\" )\n",
        "df.show(truncate=False)"
      ],
      "execution_count": 4,
      "outputs": [
        {
          "output_type": "stream",
          "name": "stdout",
          "text": [
            "+-----------+-----------+--------------+----------+--------------+-------------------------------------------------------------------------------------------------------------------------------------------------------------+----------------+-----------+-------------+-----------+----+-----------------+-------------------------------------------------+-----------------------------------------------------------------------------------------------------------------------------------------------------------------------------------------------------------------------------------------------------------------------------------------------------------+-----------+\n",
            "|marketplace|customer_id|review_id     |product_id|product_parent|product_title                                                                                                                                                |product_category|star_rating|helpful_votes|total_votes|vine|verified_purchase|review_headline                                  |review_body                                                                                                                                                                                                                                                                                                |review_date|\n",
            "+-----------+-----------+--------------+----------+--------------+-------------------------------------------------------------------------------------------------------------------------------------------------------------+----------------+-----------+-------------+-----------+----+-----------------+-------------------------------------------------+-----------------------------------------------------------------------------------------------------------------------------------------------------------------------------------------------------------------------------------------------------------------------------------------------------------+-----------+\n",
            "|US         |41409413   |R2MTG1GCZLR2DK|B00428R89M|112201306     |yoomall 5M Antenna WIFI RP-SMA Female to Male Extensionl Cable                                                                                               |Electronics     |5          |0            |0          |N   |Y                |Five Stars                                       |As described.                                                                                                                                                                                                                                                                                              |2015-08-31 |\n",
            "|US         |49668221   |R2HBOEM8LE9928|B000068O48|734576678     |Hosa GPM-103 3.5mm TRS to 1/4\" TRS Adaptor                                                                                                                   |Electronics     |5          |0            |0          |N   |Y                |It works as advertising.                         |It works as advertising.                                                                                                                                                                                                                                                                                   |2015-08-31 |\n",
            "|US         |12338275   |R1P4RW1R9FDPEE|B000GGKOG8|614448099     |Channel Master Titan 2 Antenna Preamplifier                                                                                                                  |Electronics     |5          |1            |1          |N   |Y                |Five Stars                                       |Works pissa                                                                                                                                                                                                                                                                                                |2015-08-31 |\n",
            "|US         |38487968   |R1EBPM82ENI67M|B000NU4OTA|72265257      |LIMTECH Wall charger + USB Hotsync & Charging Dock Cradle desktop Charger for Apple IPOD Shuffle 2nd Generation MP3 Player                                   |Electronics     |1          |0            |0          |N   |Y                |One Star                                         |Did not work at all.                                                                                                                                                                                                                                                                                       |2015-08-31 |\n",
            "|US         |23732619   |R372S58V6D11AT|B00JOQIO6S|308169188     |Skullcandy Air Raid Portable Bluetooth Speaker                                                                                                               |Electronics     |5          |1            |1          |N   |Y                |Overall pleased with the item                    |Works well. Bass is somewhat lacking but is present. Overall pleased with the item.                                                                                                                                                                                                                        |2015-08-31 |\n",
            "|US         |21257820   |R1A4514XOYI1PD|B008NCD2LG|976385982     |Pioneer SP-BS22-LR Andrew Jones Designed Bookshelf Loudspeakers                                                                                              |Electronics     |5          |1            |1          |N   |Y                |Five Stars                                       |The quality on these speakers is insanely good and doesn't sound muddy when adjusting bass. Very happy with these.                                                                                                                                                                                         |2015-08-31 |\n",
            "|US         |3084991    |R20D9EHB7N20V6|B00007FGUF|670878953     |C2G/Cables to Go 03170 3.5mm F/F Stereo Coupler                                                                                                              |Electronics     |5          |0            |0          |N   |Y                |Lifesaver                                        |Wish I could give this product more than five stars. Lifesaver.                                                                                                                                                                                                                                            |2015-08-31 |\n",
            "|US         |8153674    |R1WUTD8MVSROJU|B00M9V2RMM|508452933     |COOLEAD-HDMI Switcher BOX                                                                                                                                    |Electronics     |5          |0            |0          |N   |Y                |Five Stars                                       |works great                                                                                                                                                                                                                                                                                                |2015-08-31 |\n",
            "|US         |52246189   |R1QCYLT25812DM|B00J3O9DYI|766372886     |Philips Wireless Portable Speaker                                                                                                                            |Electronics     |4          |0            |0          |N   |Y                |Four Stars                                       |Great sound and compact. Battery life seems good. Happy with this product.                                                                                                                                                                                                                                 |2015-08-31 |\n",
            "|US         |41463864   |R904DQPBCEM7A |B00NS1A0E4|458130381     |PlayStation 3 3D Glasses (Super Value 4 Pack)                                                                                                                |Electronics     |4          |0            |0          |N   |Y                |Four Stars                                       |It works well~~~                                                                                                                                                                                                                                                                                           |2015-08-31 |\n",
            "|US         |2781942    |R1DGA6UQIVLKZ7|B007B5V092|152891509     |JVC HAFR201A Xtreme Xplosive Deep Bass Earbuds with Mic and Remote, Blue                                                                                     |Electronics     |5          |0            |0          |N   |Y                |Five Stars                                       |Alll good                                                                                                                                                                                                                                                                                                  |2015-08-31 |\n",
            "|US         |707292     |RLQT3V8SMNIBH |B00IODHGVG|717335277     |Sylvania Alarm Clock Radio with CD Player and USB Charging                                                                                                   |Electronics     |5          |0            |0          |N   |Y                |Five Stars                                       |Love clock radio & CD player.  Easy to operate.                                                                                                                                                                                                                                                            |2015-08-31 |\n",
            "|US         |31463514   |R3T9GZS2TMXZGM|B0035PBHX6|249533961     |Coby 8 GB 1.8-Inch Video MP3 Player with FM Radio                                                                                                            |Electronics     |1          |0            |0          |N   |Y                |One Star                                         |Breaks very easily, and takes a while to load music                                                                                                                                                                                                                                                        |2015-08-31 |\n",
            "|US         |33475055   |R24HVAEYP5PLDN|B00K1JJWFO|635791633     |Diamond (Original) SRH77CA 144/440 MHz. Dual-Band High Gain Handheld Antenna Rx: 120~900 MHz. (Gain: 440 Mhz. 2.15 dBi, Max Power: 10 Watts, Length: 15\") SMA|Electronics     |5          |0            |1          |N   |Y                |Five Stars                                       |Excellent gain in radio frequency reception over the stock antenna that came with the radio.                                                                                                                                                                                                               |2015-08-31 |\n",
            "|US         |16543871   |R32KMAPNV5NJPJ|B00S3LJ5EA|659360184     |Kingvom 8gb 50 Hours Continuous Playback Mp3 Player with Bluetooth Transmitter Hi-fi Music Player White                                                      |Electronics     |5          |0            |0          |N   |Y                |Five Stars                                       |everything I expected for a great price                                                                                                                                                                                                                                                                    |2015-08-31 |\n",
            "|US         |38472651   |RC7VLPHUT6UAF |B00B5QNGN6|564421014     |JBL Ultra-Portable Speaker with Built-In Bass Port and Wireless Bluetooth Connectivity                                                                       |Electronics     |5          |0            |0          |N   |Y                |Five Stars                                       |Love this small speaker with loud volume, great for the beach                                                                                                                                                                                                                                              |2015-08-31 |\n",
            "|US         |26946211   |R3G1II8P4KGUAR|B00PLE8QF6|685446417     |YIPBOWPT Surface Pro 4 M3 Charger,15V/1.6A 24W OEM Replacement Power Adapter Supply for Microsoft Windows Surface Pro 4 Core M3 Model 1735 Tablet            |Electronics     |5          |0            |0          |N   |Y                |great product                                    |works as advertised.... nothing else to really say about it                                                                                                                                                                                                                                                |2015-08-31 |\n",
            "|US         |10195727   |R1UBFCBUALL6S5|B00GHUSIU6|595255086     |StarTech.com Mini USB 2.0 Cable                                                                                                                              |Electronics     |5          |0            |0          |N   |Y                |Five Stars                                       |very good especially for notebooks with micro hdmi and you want to connect it to a computer screen                                                                                                                                                                                                         |2015-08-31 |\n",
            "|US         |47386264   |R1WI5NISM6GAUG|B0045EJY90|892920832     |TEAC CD-P650-B Compact Disc Player with USB and iPod Digital Interface (Black)                                                                               |Electronics     |2          |4            |5          |N   |Y                |It does not copy CD-R s to USB as advertised ... |It does not copy CD-R s to USB as advertised. My CD's were recorded on a Sony machine and properly finalized. They copy on other machines.<br />It repeatedly shows &#34;copy protected wait&#34;.<br />None of my CD-R s are copy protected. I do want a machine that will copy my CD-R collection to USB.|2015-08-31 |\n",
            "|US         |13000908   |R27F4OF4BIA4LU|B003BT6BM8|631236454     |Philips SHS8100/28 Earhook Headphones                                                                                                                        |Electronics     |2          |1            |1          |N   |Y                |Did not last long, Stop working within a year ...|Did not last long,  Stop working within a year.                                                                                                                                                                                                                                                            |2015-08-31 |\n",
            "+-----------+-----------+--------------+----------+--------------+-------------------------------------------------------------------------------------------------------------------------------------------------------------+----------------+-----------+-------------+-----------+----+-----------------+-------------------------------------------------+-----------------------------------------------------------------------------------------------------------------------------------------------------------------------------------------------------------------------------------------------------------------------------------------------------------+-----------+\n",
            "only showing top 20 rows\n",
            "\n"
          ]
        }
      ]
    },
    {
      "cell_type": "code",
      "metadata": {
        "colab": {
          "base_uri": "https://localhost:8080/"
        },
        "id": "AtabxjLKNSXE",
        "outputId": "c1f7b011-03c7-4303-b1f3-9fe154df9267"
      },
      "source": [
        "# get the shape of the dataframe\n",
        "\n",
        "print((df.count(), len(df.columns)))"
      ],
      "execution_count": 5,
      "outputs": [
        {
          "output_type": "stream",
          "name": "stdout",
          "text": [
            "(3093869, 15)\n"
          ]
        }
      ]
    },
    {
      "cell_type": "code",
      "metadata": {
        "colab": {
          "base_uri": "https://localhost:8080/"
        },
        "id": "49EnxXQHMDRa",
        "outputId": "5a18073a-9397-4004-9f96-04168170022f"
      },
      "source": [
        "# dropping null values\n",
        "dropna_df = df.dropna()\n",
        "\n",
        "dropna_df.count()"
      ],
      "execution_count": 6,
      "outputs": [
        {
          "output_type": "execute_result",
          "data": {
            "text/plain": [
              "3093660"
            ]
          },
          "metadata": {},
          "execution_count": 6
        }
      ]
    },
    {
      "cell_type": "code",
      "metadata": {
        "colab": {
          "base_uri": "https://localhost:8080/"
        },
        "id": "QatG7NB6ufWN",
        "outputId": "d9c07f27-571a-4915-e3c1-54be357d91b1"
      },
      "source": [
        "# dropping duplicate rows\n",
        "electronics_df = dropna_df.dropDuplicates()\n",
        "\n",
        "electronics_df.count()"
      ],
      "execution_count": 7,
      "outputs": [
        {
          "output_type": "execute_result",
          "data": {
            "text/plain": [
              "3093660"
            ]
          },
          "metadata": {},
          "execution_count": 7
        }
      ]
    },
    {
      "cell_type": "code",
      "metadata": {
        "colab": {
          "base_uri": "https://localhost:8080/"
        },
        "id": "2daGcWzVvhpe",
        "outputId": "973313c5-6586-4493-e4e6-418964f655ac"
      },
      "source": [
        "electronics_df.dtypes"
      ],
      "execution_count": 8,
      "outputs": [
        {
          "output_type": "execute_result",
          "data": {
            "text/plain": [
              "[('marketplace', 'string'),\n",
              " ('customer_id', 'int'),\n",
              " ('review_id', 'string'),\n",
              " ('product_id', 'string'),\n",
              " ('product_parent', 'int'),\n",
              " ('product_title', 'string'),\n",
              " ('product_category', 'string'),\n",
              " ('star_rating', 'int'),\n",
              " ('helpful_votes', 'int'),\n",
              " ('total_votes', 'int'),\n",
              " ('vine', 'string'),\n",
              " ('verified_purchase', 'string'),\n",
              " ('review_headline', 'string'),\n",
              " ('review_body', 'string'),\n",
              " ('review_date', 'string')]"
            ]
          },
          "metadata": {},
          "execution_count": 8
        }
      ]
    },
    {
      "cell_type": "code",
      "metadata": {
        "id": "J65tqjplazVS"
      },
      "source": [
        "from pyspark.sql.functions import *\n",
        "# convert date to timestamp\n",
        "electronics_df = electronics_df.withColumn('review_date', to_timestamp(electronics_df['review_date'],'yyyy-MM-dd'))\n"
      ],
      "execution_count": 9,
      "outputs": []
    },
    {
      "cell_type": "code",
      "metadata": {
        "colab": {
          "base_uri": "https://localhost:8080/"
        },
        "id": "UyQU6TsqlNDS",
        "outputId": "248bbaf1-da97-4141-ebf2-9344dea72771"
      },
      "source": [
        "electronics_df.printSchema()"
      ],
      "execution_count": 10,
      "outputs": [
        {
          "output_type": "stream",
          "name": "stdout",
          "text": [
            "root\n",
            " |-- marketplace: string (nullable = true)\n",
            " |-- customer_id: integer (nullable = true)\n",
            " |-- review_id: string (nullable = true)\n",
            " |-- product_id: string (nullable = true)\n",
            " |-- product_parent: integer (nullable = true)\n",
            " |-- product_title: string (nullable = true)\n",
            " |-- product_category: string (nullable = true)\n",
            " |-- star_rating: integer (nullable = true)\n",
            " |-- helpful_votes: integer (nullable = true)\n",
            " |-- total_votes: integer (nullable = true)\n",
            " |-- vine: string (nullable = true)\n",
            " |-- verified_purchase: string (nullable = true)\n",
            " |-- review_headline: string (nullable = true)\n",
            " |-- review_body: string (nullable = true)\n",
            " |-- review_date: timestamp (nullable = true)\n",
            "\n"
          ]
        }
      ]
    },
    {
      "cell_type": "code",
      "metadata": {
        "id": "rQzbFLbEgMij"
      },
      "source": [
        ""
      ],
      "execution_count": 11,
      "outputs": []
    }
  ]
}