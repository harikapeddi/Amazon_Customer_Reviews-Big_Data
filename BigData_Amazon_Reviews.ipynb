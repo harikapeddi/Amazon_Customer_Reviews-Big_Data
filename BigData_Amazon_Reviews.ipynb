{
  "nbformat": 4,
  "nbformat_minor": 0,
  "metadata": {
    "colab": {
      "name": "BigData_Amazon_Reviews.ipynb",
      "provenance": [],
      "collapsed_sections": []
    },
    "kernelspec": {
      "display_name": "Python 3",
      "name": "python3"
    },
    "language_info": {
      "name": "python"
    }
  },
  "cells": [
    {
      "cell_type": "code",
      "metadata": {
        "colab": {
          "base_uri": "https://localhost:8080/"
        },
        "id": "NRDOfu9Z30qC",
        "outputId": "1f67cf12-7acc-4718-e2c5-c4b3a66d3e91"
      },
      "source": [
        "import os\n",
        "# Find the latest version of spark 3.0  from http://www.apache.org/dist/spark/ and enter as the spark version\n",
        "# For example:\n",
        "# spark_version = 'spark-3.0.3'\n",
        "spark_version = 'spark-3.1.2'\n",
        "os.environ['SPARK_VERSION']=spark_version\n",
        "\n",
        "# Install Spark and Java\n",
        "!apt-get update\n",
        "!apt-get install openjdk-8-jdk-headless -qq > /dev/null\n",
        "!wget -q http://www.apache.org/dist/spark/$SPARK_VERSION/$SPARK_VERSION-bin-hadoop2.7.tgz\n",
        "!tar xf $SPARK_VERSION-bin-hadoop2.7.tgz\n",
        "!pip install -q findspark\n",
        "\n",
        "# Set Environment Variables\n",
        "os.environ[\"JAVA_HOME\"] = \"/usr/lib/jvm/java-8-openjdk-amd64\"\n",
        "os.environ[\"SPARK_HOME\"] = f\"/content/{spark_version}-bin-hadoop2.7\"\n",
        "\n",
        "# Start a SparkSession\n",
        "import findspark\n",
        "findspark.init()"
      ],
      "execution_count": 1,
      "outputs": [
        {
          "output_type": "stream",
          "name": "stdout",
          "text": [
            "Get:1 http://security.ubuntu.com/ubuntu bionic-security InRelease [88.7 kB]\n",
            "Get:2 https://cloud.r-project.org/bin/linux/ubuntu bionic-cran40/ InRelease [3,626 B]\n",
            "Ign:3 https://developer.download.nvidia.com/compute/cuda/repos/ubuntu1804/x86_64  InRelease\n",
            "Get:4 http://ppa.launchpad.net/c2d4u.team/c2d4u4.0+/ubuntu bionic InRelease [15.9 kB]\n",
            "Hit:5 http://archive.ubuntu.com/ubuntu bionic InRelease\n",
            "Ign:6 https://developer.download.nvidia.com/compute/machine-learning/repos/ubuntu1804/x86_64  InRelease\n",
            "Hit:7 https://developer.download.nvidia.com/compute/cuda/repos/ubuntu1804/x86_64  Release\n",
            "Hit:8 https://developer.download.nvidia.com/compute/machine-learning/repos/ubuntu1804/x86_64  Release\n",
            "Get:9 http://archive.ubuntu.com/ubuntu bionic-updates InRelease [88.7 kB]\n",
            "Get:10 http://security.ubuntu.com/ubuntu bionic-security/main amd64 Packages [2,351 kB]\n",
            "Hit:11 http://ppa.launchpad.net/cran/libgit2/ubuntu bionic InRelease\n",
            "Get:12 http://security.ubuntu.com/ubuntu bionic-security/restricted amd64 Packages [594 kB]\n",
            "Get:13 http://security.ubuntu.com/ubuntu bionic-security/universe amd64 Packages [1,428 kB]\n",
            "Get:14 http://archive.ubuntu.com/ubuntu bionic-backports InRelease [74.6 kB]\n",
            "Hit:15 http://ppa.launchpad.net/deadsnakes/ppa/ubuntu bionic InRelease\n",
            "Get:16 https://cloud.r-project.org/bin/linux/ubuntu bionic-cran40/ Packages [67.9 kB]\n",
            "Get:17 http://ppa.launchpad.net/graphics-drivers/ppa/ubuntu bionic InRelease [21.3 kB]\n",
            "Get:20 http://ppa.launchpad.net/c2d4u.team/c2d4u4.0+/ubuntu bionic/main Sources [1,802 kB]\n",
            "Get:21 http://archive.ubuntu.com/ubuntu bionic-updates/restricted amd64 Packages [627 kB]\n",
            "Get:22 http://archive.ubuntu.com/ubuntu bionic-updates/main amd64 Packages [2,787 kB]\n",
            "Get:23 http://ppa.launchpad.net/c2d4u.team/c2d4u4.0+/ubuntu bionic/main amd64 Packages [922 kB]\n",
            "Get:24 http://archive.ubuntu.com/ubuntu bionic-updates/universe amd64 Packages [2,202 kB]\n",
            "Get:25 http://ppa.launchpad.net/graphics-drivers/ppa/ubuntu bionic/main amd64 Packages [42.0 kB]\n",
            "Fetched 13.1 MB in 3s (4,172 kB/s)\n",
            "Reading package lists... Done\n"
          ]
        }
      ]
    },
    {
      "cell_type": "code",
      "metadata": {
        "colab": {
          "base_uri": "https://localhost:8080/"
        },
        "id": "T_DYUmVsqWEl",
        "outputId": "253fa88d-9790-47d6-db0d-b9cda6907f58"
      },
      "source": [
        "!wget https://jdbc.postgresql.org/download/postgresql-42.2.9.jar"
      ],
      "execution_count": 2,
      "outputs": [
        {
          "output_type": "stream",
          "name": "stdout",
          "text": [
            "--2021-09-27 22:37:34--  https://jdbc.postgresql.org/download/postgresql-42.2.9.jar\n",
            "Resolving jdbc.postgresql.org (jdbc.postgresql.org)... 72.32.157.228, 2001:4800:3e1:1::228\n",
            "Connecting to jdbc.postgresql.org (jdbc.postgresql.org)|72.32.157.228|:443... connected.\n",
            "HTTP request sent, awaiting response... 200 OK\n",
            "Length: 914037 (893K) [application/java-archive]\n",
            "Saving to: ‘postgresql-42.2.9.jar’\n",
            "\n",
            "postgresql-42.2.9.j 100%[===================>] 892.61K  4.98MB/s    in 0.2s    \n",
            "\n",
            "2021-09-27 22:37:34 (4.98 MB/s) - ‘postgresql-42.2.9.jar’ saved [914037/914037]\n",
            "\n"
          ]
        }
      ]
    },
    {
      "cell_type": "code",
      "metadata": {
        "id": "MDlP9Eq3IsQJ"
      },
      "source": [
        "from pyspark.sql import SparkSession\n",
        "spark = SparkSession.builder.appName(\"CloudETL\").config(\"spark.driver.extraClassPath\",\"/content/postgresql-42.2.9.jar\").getOrCreate()"
      ],
      "execution_count": 3,
      "outputs": []
    },
    {
      "cell_type": "code",
      "metadata": {
        "colab": {
          "base_uri": "https://localhost:8080/"
        },
        "id": "Sls4d0nHLT40",
        "outputId": "13f5a2c9-c08f-4598-b49c-ffb820ff2505"
      },
      "source": [
        "from pyspark import SparkFiles\n",
        "# Load in user_data.csv from S3 into a DataFrame\n",
        "url = \"https://s3.amazonaws.com/amazon-reviews-pds/tsv/amazon_reviews_us_Electronics_v1_00.tsv.gz\"\n",
        "spark.sparkContext.addFile(url)\n",
        "\n",
        "df = spark.read.csv(SparkFiles.get(\"amazon_reviews_us_Electronics_v1_00.tsv.gz\"),sep=\"\\t\", header=True, inferSchema=True, timestampFormat=\"mm/dd/yy\" )\n",
        "df.show(truncate=False)"
      ],
      "execution_count": 4,
      "outputs": [
        {
          "output_type": "stream",
          "name": "stdout",
          "text": [
            "+-----------+-----------+--------------+----------+--------------+-------------------------------------------------------------------------------------------------------------------------------------------------------------+----------------+-----------+-------------+-----------+----+-----------------+-------------------------------------------------+-----------------------------------------------------------------------------------------------------------------------------------------------------------------------------------------------------------------------------------------------------------------------------------------------------------+-----------+\n",
            "|marketplace|customer_id|review_id     |product_id|product_parent|product_title                                                                                                                                                |product_category|star_rating|helpful_votes|total_votes|vine|verified_purchase|review_headline                                  |review_body                                                                                                                                                                                                                                                                                                |review_date|\n",
            "+-----------+-----------+--------------+----------+--------------+-------------------------------------------------------------------------------------------------------------------------------------------------------------+----------------+-----------+-------------+-----------+----+-----------------+-------------------------------------------------+-----------------------------------------------------------------------------------------------------------------------------------------------------------------------------------------------------------------------------------------------------------------------------------------------------------+-----------+\n",
            "|US         |41409413   |R2MTG1GCZLR2DK|B00428R89M|112201306     |yoomall 5M Antenna WIFI RP-SMA Female to Male Extensionl Cable                                                                                               |Electronics     |5          |0            |0          |N   |Y                |Five Stars                                       |As described.                                                                                                                                                                                                                                                                                              |2015-08-31 |\n",
            "|US         |49668221   |R2HBOEM8LE9928|B000068O48|734576678     |Hosa GPM-103 3.5mm TRS to 1/4\" TRS Adaptor                                                                                                                   |Electronics     |5          |0            |0          |N   |Y                |It works as advertising.                         |It works as advertising.                                                                                                                                                                                                                                                                                   |2015-08-31 |\n",
            "|US         |12338275   |R1P4RW1R9FDPEE|B000GGKOG8|614448099     |Channel Master Titan 2 Antenna Preamplifier                                                                                                                  |Electronics     |5          |1            |1          |N   |Y                |Five Stars                                       |Works pissa                                                                                                                                                                                                                                                                                                |2015-08-31 |\n",
            "|US         |38487968   |R1EBPM82ENI67M|B000NU4OTA|72265257      |LIMTECH Wall charger + USB Hotsync & Charging Dock Cradle desktop Charger for Apple IPOD Shuffle 2nd Generation MP3 Player                                   |Electronics     |1          |0            |0          |N   |Y                |One Star                                         |Did not work at all.                                                                                                                                                                                                                                                                                       |2015-08-31 |\n",
            "|US         |23732619   |R372S58V6D11AT|B00JOQIO6S|308169188     |Skullcandy Air Raid Portable Bluetooth Speaker                                                                                                               |Electronics     |5          |1            |1          |N   |Y                |Overall pleased with the item                    |Works well. Bass is somewhat lacking but is present. Overall pleased with the item.                                                                                                                                                                                                                        |2015-08-31 |\n",
            "|US         |21257820   |R1A4514XOYI1PD|B008NCD2LG|976385982     |Pioneer SP-BS22-LR Andrew Jones Designed Bookshelf Loudspeakers                                                                                              |Electronics     |5          |1            |1          |N   |Y                |Five Stars                                       |The quality on these speakers is insanely good and doesn't sound muddy when adjusting bass. Very happy with these.                                                                                                                                                                                         |2015-08-31 |\n",
            "|US         |3084991    |R20D9EHB7N20V6|B00007FGUF|670878953     |C2G/Cables to Go 03170 3.5mm F/F Stereo Coupler                                                                                                              |Electronics     |5          |0            |0          |N   |Y                |Lifesaver                                        |Wish I could give this product more than five stars. Lifesaver.                                                                                                                                                                                                                                            |2015-08-31 |\n",
            "|US         |8153674    |R1WUTD8MVSROJU|B00M9V2RMM|508452933     |COOLEAD-HDMI Switcher BOX                                                                                                                                    |Electronics     |5          |0            |0          |N   |Y                |Five Stars                                       |works great                                                                                                                                                                                                                                                                                                |2015-08-31 |\n",
            "|US         |52246189   |R1QCYLT25812DM|B00J3O9DYI|766372886     |Philips Wireless Portable Speaker                                                                                                                            |Electronics     |4          |0            |0          |N   |Y                |Four Stars                                       |Great sound and compact. Battery life seems good. Happy with this product.                                                                                                                                                                                                                                 |2015-08-31 |\n",
            "|US         |41463864   |R904DQPBCEM7A |B00NS1A0E4|458130381     |PlayStation 3 3D Glasses (Super Value 4 Pack)                                                                                                                |Electronics     |4          |0            |0          |N   |Y                |Four Stars                                       |It works well~~~                                                                                                                                                                                                                                                                                           |2015-08-31 |\n",
            "|US         |2781942    |R1DGA6UQIVLKZ7|B007B5V092|152891509     |JVC HAFR201A Xtreme Xplosive Deep Bass Earbuds with Mic and Remote, Blue                                                                                     |Electronics     |5          |0            |0          |N   |Y                |Five Stars                                       |Alll good                                                                                                                                                                                                                                                                                                  |2015-08-31 |\n",
            "|US         |707292     |RLQT3V8SMNIBH |B00IODHGVG|717335277     |Sylvania Alarm Clock Radio with CD Player and USB Charging                                                                                                   |Electronics     |5          |0            |0          |N   |Y                |Five Stars                                       |Love clock radio & CD player.  Easy to operate.                                                                                                                                                                                                                                                            |2015-08-31 |\n",
            "|US         |31463514   |R3T9GZS2TMXZGM|B0035PBHX6|249533961     |Coby 8 GB 1.8-Inch Video MP3 Player with FM Radio                                                                                                            |Electronics     |1          |0            |0          |N   |Y                |One Star                                         |Breaks very easily, and takes a while to load music                                                                                                                                                                                                                                                        |2015-08-31 |\n",
            "|US         |33475055   |R24HVAEYP5PLDN|B00K1JJWFO|635791633     |Diamond (Original) SRH77CA 144/440 MHz. Dual-Band High Gain Handheld Antenna Rx: 120~900 MHz. (Gain: 440 Mhz. 2.15 dBi, Max Power: 10 Watts, Length: 15\") SMA|Electronics     |5          |0            |1          |N   |Y                |Five Stars                                       |Excellent gain in radio frequency reception over the stock antenna that came with the radio.                                                                                                                                                                                                               |2015-08-31 |\n",
            "|US         |16543871   |R32KMAPNV5NJPJ|B00S3LJ5EA|659360184     |Kingvom 8gb 50 Hours Continuous Playback Mp3 Player with Bluetooth Transmitter Hi-fi Music Player White                                                      |Electronics     |5          |0            |0          |N   |Y                |Five Stars                                       |everything I expected for a great price                                                                                                                                                                                                                                                                    |2015-08-31 |\n",
            "|US         |38472651   |RC7VLPHUT6UAF |B00B5QNGN6|564421014     |JBL Ultra-Portable Speaker with Built-In Bass Port and Wireless Bluetooth Connectivity                                                                       |Electronics     |5          |0            |0          |N   |Y                |Five Stars                                       |Love this small speaker with loud volume, great for the beach                                                                                                                                                                                                                                              |2015-08-31 |\n",
            "|US         |26946211   |R3G1II8P4KGUAR|B00PLE8QF6|685446417     |YIPBOWPT Surface Pro 4 M3 Charger,15V/1.6A 24W OEM Replacement Power Adapter Supply for Microsoft Windows Surface Pro 4 Core M3 Model 1735 Tablet            |Electronics     |5          |0            |0          |N   |Y                |great product                                    |works as advertised.... nothing else to really say about it                                                                                                                                                                                                                                                |2015-08-31 |\n",
            "|US         |10195727   |R1UBFCBUALL6S5|B00GHUSIU6|595255086     |StarTech.com Mini USB 2.0 Cable                                                                                                                              |Electronics     |5          |0            |0          |N   |Y                |Five Stars                                       |very good especially for notebooks with micro hdmi and you want to connect it to a computer screen                                                                                                                                                                                                         |2015-08-31 |\n",
            "|US         |47386264   |R1WI5NISM6GAUG|B0045EJY90|892920832     |TEAC CD-P650-B Compact Disc Player with USB and iPod Digital Interface (Black)                                                                               |Electronics     |2          |4            |5          |N   |Y                |It does not copy CD-R s to USB as advertised ... |It does not copy CD-R s to USB as advertised. My CD's were recorded on a Sony machine and properly finalized. They copy on other machines.<br />It repeatedly shows &#34;copy protected wait&#34;.<br />None of my CD-R s are copy protected. I do want a machine that will copy my CD-R collection to USB.|2015-08-31 |\n",
            "|US         |13000908   |R27F4OF4BIA4LU|B003BT6BM8|631236454     |Philips SHS8100/28 Earhook Headphones                                                                                                                        |Electronics     |2          |1            |1          |N   |Y                |Did not last long, Stop working within a year ...|Did not last long,  Stop working within a year.                                                                                                                                                                                                                                                            |2015-08-31 |\n",
            "+-----------+-----------+--------------+----------+--------------+-------------------------------------------------------------------------------------------------------------------------------------------------------------+----------------+-----------+-------------+-----------+----+-----------------+-------------------------------------------------+-----------------------------------------------------------------------------------------------------------------------------------------------------------------------------------------------------------------------------------------------------------------------------------------------------------+-----------+\n",
            "only showing top 20 rows\n",
            "\n"
          ]
        }
      ]
    },
    {
      "cell_type": "code",
      "metadata": {
        "colab": {
          "base_uri": "https://localhost:8080/"
        },
        "id": "AtabxjLKNSXE",
        "outputId": "5ccf5804-a5f9-4ce7-9cff-bda8ddff0b62"
      },
      "source": [
        "# get the shape of the dataframe\n",
        "\n",
        "print((df.count(), len(df.columns)))"
      ],
      "execution_count": 5,
      "outputs": [
        {
          "output_type": "stream",
          "name": "stdout",
          "text": [
            "(3093869, 15)\n"
          ]
        }
      ]
    },
    {
      "cell_type": "code",
      "metadata": {
        "colab": {
          "base_uri": "https://localhost:8080/"
        },
        "id": "49EnxXQHMDRa",
        "outputId": "873a55bd-c364-4ed9-dc98-0ff216dbdea6"
      },
      "source": [
        "# dropping null values\n",
        "dropna_df = df.dropna()\n",
        "\n",
        "dropna_df.count()"
      ],
      "execution_count": 6,
      "outputs": [
        {
          "output_type": "execute_result",
          "data": {
            "text/plain": [
              "3093660"
            ]
          },
          "metadata": {},
          "execution_count": 6
        }
      ]
    },
    {
      "cell_type": "code",
      "metadata": {
        "colab": {
          "base_uri": "https://localhost:8080/"
        },
        "id": "QatG7NB6ufWN",
        "outputId": "429907fe-2509-49af-b440-c08ea03f03d1"
      },
      "source": [
        "# dropping duplicate rows\n",
        "electronics_df = dropna_df.dropDuplicates()\n",
        "\n",
        "electronics_df.count()"
      ],
      "execution_count": 7,
      "outputs": [
        {
          "output_type": "execute_result",
          "data": {
            "text/plain": [
              "3093660"
            ]
          },
          "metadata": {},
          "execution_count": 7
        }
      ]
    },
    {
      "cell_type": "code",
      "metadata": {
        "colab": {
          "base_uri": "https://localhost:8080/"
        },
        "id": "2daGcWzVvhpe",
        "outputId": "2542515b-6d3e-4509-884d-e06abcbe5ad3"
      },
      "source": [
        "electronics_df.dtypes"
      ],
      "execution_count": 8,
      "outputs": [
        {
          "output_type": "execute_result",
          "data": {
            "text/plain": [
              "[('marketplace', 'string'),\n",
              " ('customer_id', 'int'),\n",
              " ('review_id', 'string'),\n",
              " ('product_id', 'string'),\n",
              " ('product_parent', 'int'),\n",
              " ('product_title', 'string'),\n",
              " ('product_category', 'string'),\n",
              " ('star_rating', 'int'),\n",
              " ('helpful_votes', 'int'),\n",
              " ('total_votes', 'int'),\n",
              " ('vine', 'string'),\n",
              " ('verified_purchase', 'string'),\n",
              " ('review_headline', 'string'),\n",
              " ('review_body', 'string'),\n",
              " ('review_date', 'string')]"
            ]
          },
          "metadata": {},
          "execution_count": 8
        }
      ]
    },
    {
      "cell_type": "code",
      "metadata": {
        "colab": {
          "base_uri": "https://localhost:8080/"
        },
        "id": "J65tqjplazVS",
        "outputId": "ba91d757-40ee-49b1-a294-e5565b0cae59"
      },
      "source": [
        "from pyspark.sql.functions import *\n",
        "electronics_df.select(col('review_date'),to_date(col('review_date'),\"MM-dd-yyyy\").alias(\"date\"))\n",
        "electronics_df.show()"
      ],
      "execution_count": 11,
      "outputs": [
        {
          "output_type": "stream",
          "name": "stdout",
          "text": [
            "+-----------+----+\n",
            "|review_date|date|\n",
            "+-----------+----+\n",
            "| 2013-10-14|null|\n",
            "| 2015-06-30|null|\n",
            "| 2014-06-19|null|\n",
            "| 2012-12-24|null|\n",
            "| 2011-10-03|null|\n",
            "| 2010-08-30|null|\n",
            "| 2011-07-12|null|\n",
            "| 2014-02-27|null|\n",
            "| 2013-12-09|null|\n",
            "| 2015-05-28|null|\n",
            "| 2008-09-25|null|\n",
            "| 2015-07-14|null|\n",
            "| 2012-02-08|null|\n",
            "| 2013-02-18|null|\n",
            "| 2015-08-30|null|\n",
            "| 2012-11-15|null|\n",
            "| 2015-08-22|null|\n",
            "| 2014-12-06|null|\n",
            "| 2003-06-01|null|\n",
            "| 2009-10-31|null|\n",
            "+-----------+----+\n",
            "only showing top 20 rows\n",
            "\n"
          ]
        }
      ]
    },
    {
      "cell_type": "code",
      "metadata": {
        "colab": {
          "base_uri": "https://localhost:8080/",
          "height": 423
        },
        "id": "DCIhUGQvM2rW",
        "outputId": "23452d96-2f09-4808-c9a2-9404d29925a3"
      },
      "source": [
        "review_id_table_df = df['review_id', 'customer_id', 'product_id', 'product_parent', 'review_data']\n",
        "review_id_table_df.show()"
      ],
      "execution_count": 9,
      "outputs": [
        {
          "output_type": "error",
          "ename": "AnalysisException",
          "evalue": "ignored",
          "traceback": [
            "\u001b[0;31m---------------------------------------------------------------------------\u001b[0m",
            "\u001b[0;31mAnalysisException\u001b[0m                         Traceback (most recent call last)",
            "\u001b[0;32m<ipython-input-9-235553e0b555>\u001b[0m in \u001b[0;36m<module>\u001b[0;34m()\u001b[0m\n\u001b[0;32m----> 1\u001b[0;31m \u001b[0mreview_id_table_df\u001b[0m \u001b[0;34m=\u001b[0m \u001b[0mdf\u001b[0m\u001b[0;34m[\u001b[0m\u001b[0;34m'review_id'\u001b[0m\u001b[0;34m,\u001b[0m \u001b[0;34m'customer_id'\u001b[0m\u001b[0;34m,\u001b[0m \u001b[0;34m'product_id'\u001b[0m\u001b[0;34m,\u001b[0m \u001b[0;34m'product_parent'\u001b[0m\u001b[0;34m,\u001b[0m \u001b[0;34m'review_data'\u001b[0m\u001b[0;34m]\u001b[0m\u001b[0;34m\u001b[0m\u001b[0;34m\u001b[0m\u001b[0m\n\u001b[0m\u001b[1;32m      2\u001b[0m \u001b[0mreview_id_table_df\u001b[0m\u001b[0;34m.\u001b[0m\u001b[0mshow\u001b[0m\u001b[0;34m(\u001b[0m\u001b[0;34m)\u001b[0m\u001b[0;34m\u001b[0m\u001b[0;34m\u001b[0m\u001b[0m\n",
            "\u001b[0;32m/content/spark-3.1.2-bin-hadoop2.7/python/pyspark/sql/dataframe.py\u001b[0m in \u001b[0;36m__getitem__\u001b[0;34m(self, item)\u001b[0m\n\u001b[1;32m   1623\u001b[0m             \u001b[0;32mreturn\u001b[0m \u001b[0mself\u001b[0m\u001b[0;34m.\u001b[0m\u001b[0mfilter\u001b[0m\u001b[0;34m(\u001b[0m\u001b[0mitem\u001b[0m\u001b[0;34m)\u001b[0m\u001b[0;34m\u001b[0m\u001b[0;34m\u001b[0m\u001b[0m\n\u001b[1;32m   1624\u001b[0m         \u001b[0;32melif\u001b[0m \u001b[0misinstance\u001b[0m\u001b[0;34m(\u001b[0m\u001b[0mitem\u001b[0m\u001b[0;34m,\u001b[0m \u001b[0;34m(\u001b[0m\u001b[0mlist\u001b[0m\u001b[0;34m,\u001b[0m \u001b[0mtuple\u001b[0m\u001b[0;34m)\u001b[0m\u001b[0;34m)\u001b[0m\u001b[0;34m:\u001b[0m\u001b[0;34m\u001b[0m\u001b[0;34m\u001b[0m\u001b[0m\n\u001b[0;32m-> 1625\u001b[0;31m             \u001b[0;32mreturn\u001b[0m \u001b[0mself\u001b[0m\u001b[0;34m.\u001b[0m\u001b[0mselect\u001b[0m\u001b[0;34m(\u001b[0m\u001b[0;34m*\u001b[0m\u001b[0mitem\u001b[0m\u001b[0;34m)\u001b[0m\u001b[0;34m\u001b[0m\u001b[0;34m\u001b[0m\u001b[0m\n\u001b[0m\u001b[1;32m   1626\u001b[0m         \u001b[0;32melif\u001b[0m \u001b[0misinstance\u001b[0m\u001b[0;34m(\u001b[0m\u001b[0mitem\u001b[0m\u001b[0;34m,\u001b[0m \u001b[0mint\u001b[0m\u001b[0;34m)\u001b[0m\u001b[0;34m:\u001b[0m\u001b[0;34m\u001b[0m\u001b[0;34m\u001b[0m\u001b[0m\n\u001b[1;32m   1627\u001b[0m             \u001b[0mjc\u001b[0m \u001b[0;34m=\u001b[0m \u001b[0mself\u001b[0m\u001b[0;34m.\u001b[0m\u001b[0m_jdf\u001b[0m\u001b[0;34m.\u001b[0m\u001b[0mapply\u001b[0m\u001b[0;34m(\u001b[0m\u001b[0mself\u001b[0m\u001b[0;34m.\u001b[0m\u001b[0mcolumns\u001b[0m\u001b[0;34m[\u001b[0m\u001b[0mitem\u001b[0m\u001b[0;34m]\u001b[0m\u001b[0;34m)\u001b[0m\u001b[0;34m\u001b[0m\u001b[0;34m\u001b[0m\u001b[0m\n",
            "\u001b[0;32m/content/spark-3.1.2-bin-hadoop2.7/python/pyspark/sql/dataframe.py\u001b[0m in \u001b[0;36mselect\u001b[0;34m(self, *cols)\u001b[0m\n\u001b[1;32m   1667\u001b[0m         \u001b[0;34m[\u001b[0m\u001b[0mRow\u001b[0m\u001b[0;34m(\u001b[0m\u001b[0mname\u001b[0m\u001b[0;34m=\u001b[0m\u001b[0;34m'Alice'\u001b[0m\u001b[0;34m,\u001b[0m \u001b[0mage\u001b[0m\u001b[0;34m=\u001b[0m\u001b[0;36m12\u001b[0m\u001b[0;34m)\u001b[0m\u001b[0;34m,\u001b[0m \u001b[0mRow\u001b[0m\u001b[0;34m(\u001b[0m\u001b[0mname\u001b[0m\u001b[0;34m=\u001b[0m\u001b[0;34m'Bob'\u001b[0m\u001b[0;34m,\u001b[0m \u001b[0mage\u001b[0m\u001b[0;34m=\u001b[0m\u001b[0;36m15\u001b[0m\u001b[0;34m)\u001b[0m\u001b[0;34m]\u001b[0m\u001b[0;34m\u001b[0m\u001b[0;34m\u001b[0m\u001b[0m\n\u001b[1;32m   1668\u001b[0m         \"\"\"\n\u001b[0;32m-> 1669\u001b[0;31m         \u001b[0mjdf\u001b[0m \u001b[0;34m=\u001b[0m \u001b[0mself\u001b[0m\u001b[0;34m.\u001b[0m\u001b[0m_jdf\u001b[0m\u001b[0;34m.\u001b[0m\u001b[0mselect\u001b[0m\u001b[0;34m(\u001b[0m\u001b[0mself\u001b[0m\u001b[0;34m.\u001b[0m\u001b[0m_jcols\u001b[0m\u001b[0;34m(\u001b[0m\u001b[0;34m*\u001b[0m\u001b[0mcols\u001b[0m\u001b[0;34m)\u001b[0m\u001b[0;34m)\u001b[0m\u001b[0;34m\u001b[0m\u001b[0;34m\u001b[0m\u001b[0m\n\u001b[0m\u001b[1;32m   1670\u001b[0m         \u001b[0;32mreturn\u001b[0m \u001b[0mDataFrame\u001b[0m\u001b[0;34m(\u001b[0m\u001b[0mjdf\u001b[0m\u001b[0;34m,\u001b[0m \u001b[0mself\u001b[0m\u001b[0;34m.\u001b[0m\u001b[0msql_ctx\u001b[0m\u001b[0;34m)\u001b[0m\u001b[0;34m\u001b[0m\u001b[0;34m\u001b[0m\u001b[0m\n\u001b[1;32m   1671\u001b[0m \u001b[0;34m\u001b[0m\u001b[0m\n",
            "\u001b[0;32m/content/spark-3.1.2-bin-hadoop2.7/python/lib/py4j-0.10.9-src.zip/py4j/java_gateway.py\u001b[0m in \u001b[0;36m__call__\u001b[0;34m(self, *args)\u001b[0m\n\u001b[1;32m   1303\u001b[0m         \u001b[0manswer\u001b[0m \u001b[0;34m=\u001b[0m \u001b[0mself\u001b[0m\u001b[0;34m.\u001b[0m\u001b[0mgateway_client\u001b[0m\u001b[0;34m.\u001b[0m\u001b[0msend_command\u001b[0m\u001b[0;34m(\u001b[0m\u001b[0mcommand\u001b[0m\u001b[0;34m)\u001b[0m\u001b[0;34m\u001b[0m\u001b[0;34m\u001b[0m\u001b[0m\n\u001b[1;32m   1304\u001b[0m         return_value = get_return_value(\n\u001b[0;32m-> 1305\u001b[0;31m             answer, self.gateway_client, self.target_id, self.name)\n\u001b[0m\u001b[1;32m   1306\u001b[0m \u001b[0;34m\u001b[0m\u001b[0m\n\u001b[1;32m   1307\u001b[0m         \u001b[0;32mfor\u001b[0m \u001b[0mtemp_arg\u001b[0m \u001b[0;32min\u001b[0m \u001b[0mtemp_args\u001b[0m\u001b[0;34m:\u001b[0m\u001b[0;34m\u001b[0m\u001b[0;34m\u001b[0m\u001b[0m\n",
            "\u001b[0;32m/content/spark-3.1.2-bin-hadoop2.7/python/pyspark/sql/utils.py\u001b[0m in \u001b[0;36mdeco\u001b[0;34m(*a, **kw)\u001b[0m\n\u001b[1;32m    115\u001b[0m                 \u001b[0;31m# Hide where the exception came from that shows a non-Pythonic\u001b[0m\u001b[0;34m\u001b[0m\u001b[0;34m\u001b[0m\u001b[0;34m\u001b[0m\u001b[0m\n\u001b[1;32m    116\u001b[0m                 \u001b[0;31m# JVM exception message.\u001b[0m\u001b[0;34m\u001b[0m\u001b[0;34m\u001b[0m\u001b[0;34m\u001b[0m\u001b[0m\n\u001b[0;32m--> 117\u001b[0;31m                 \u001b[0;32mraise\u001b[0m \u001b[0mconverted\u001b[0m \u001b[0;32mfrom\u001b[0m \u001b[0;32mNone\u001b[0m\u001b[0;34m\u001b[0m\u001b[0;34m\u001b[0m\u001b[0m\n\u001b[0m\u001b[1;32m    118\u001b[0m             \u001b[0;32melse\u001b[0m\u001b[0;34m:\u001b[0m\u001b[0;34m\u001b[0m\u001b[0;34m\u001b[0m\u001b[0m\n\u001b[1;32m    119\u001b[0m                 \u001b[0;32mraise\u001b[0m\u001b[0;34m\u001b[0m\u001b[0;34m\u001b[0m\u001b[0m\n",
            "\u001b[0;31mAnalysisException\u001b[0m: cannot resolve '`review_data`' given input columns: [customer_id, helpful_votes, marketplace, product_category, product_id, product_parent, product_title, review_body, review_date, review_headline, review_id, star_rating, total_votes, verified_purchase, vine];\n'Project [review_id#18, customer_id#17, product_id#19, product_parent#20, 'review_data]\n+- Relation[marketplace#16,customer_id#17,review_id#18,product_id#19,product_parent#20,product_title#21,product_category#22,star_rating#23,helpful_votes#24,total_votes#25,vine#26,verified_purchase#27,review_headline#28,review_body#29,review_date#30] csv\n"
          ]
        }
      ]
    },
    {
      "cell_type": "code",
      "metadata": {
        "id": "qvB1tzmLrrM6"
      },
      "source": [
        ""
      ],
      "execution_count": null,
      "outputs": []
    }
  ]
}